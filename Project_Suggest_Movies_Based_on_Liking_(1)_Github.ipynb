{
  "cells": [
    {
      "cell_type": "markdown",
      "metadata": {
        "id": "view-in-github",
        "colab_type": "text"
      },
      "source": [
        "<a href=\"https://colab.research.google.com/github/SandySingh72/DATA_Analytics/blob/main/Project_Suggest_Movies_Based_on_Liking_(1)_Github.ipynb\" target=\"_parent\"><img src=\"https://colab.research.google.com/assets/colab-badge.svg\" alt=\"Open In Colab\"/></a>"
      ]
    },
    {
      "cell_type": "markdown",
      "metadata": {
        "id": "L-zhThzzY26g"
      },
      "source": [
        "# **Project - Suggest Movies Based on Liking**"
      ]
    },
    {
      "cell_type": "markdown",
      "metadata": {
        "id": "GHN73HQOY8vr"
      },
      "source": [
        "Task in Hand:\n",
        "\n",
        "1. Consider the dataset wiki_movie_plots_deduped.csv\n",
        "\n",
        "2. Filter the dataset by only taking Origin/Ethnicity = Bollywood and Release >= 1990.\n",
        "\n",
        "3. Create embeddings for the variable plot using anyone feature extraction / sentence transformer model from Hugging Face.\n",
        "\n",
        "4. Cluster the dataset of embeddings using any clustering algorithm of choice with any number of clusters.\n",
        "\n",
        "5. Suppose that anyone has liked a movie Lakshya (2004). Which top 3 movies can be suggested to that person."
      ]
    },
    {
      "cell_type": "markdown",
      "metadata": {
        "id": "nzxt237dZN8Q"
      },
      "source": [
        "**Step - 1 Load Required Libraries**"
      ]
    },
    {
      "cell_type": "code",
      "execution_count": null,
      "metadata": {
        "id": "li8sEG7BJiCz"
      },
      "outputs": [],
      "source": [
        "import pandas as pd\n",
        "import numpy as np\n",
        "from sentence_transformers import SentenceTransformer\n",
        "from sklearn.cluster import KMeans\n",
        "from sklearn.metrics.pairwise import cosine_similarity\n",
        "from tqdm import tqdm"
      ]
    },
    {
      "cell_type": "markdown",
      "metadata": {
        "id": "VRunTuVRbRD0"
      },
      "source": [
        "**Step 2: Load and Filter the Dataset**"
      ]
    },
    {
      "cell_type": "markdown",
      "metadata": {
        "id": "RK2zNBzwbTx0"
      },
      "source": [
        "Dataset Used: wiki_movie_plots_deduped.csv\n",
        "\n",
        "The dataset contains movie titles, release years, plot summaries, and other metadata.\n",
        "\n",
        "We only consider movies where:\n",
        "\n",
        "Origin/Ethnicity is Bollywood\n",
        "\n",
        "Release Year is 1990 or later\n",
        "\n",
        "Note:\n",
        "\n",
        "The 'Release Year' column was originally a string. We converted it to numeric using:\n",
        "\n",
        "pd.to_numeric(df['Release Year'], errors='coerce')\n",
        "\n",
        "Rows with missing or invalid years were removed."
      ]
    },
    {
      "cell_type": "code",
      "execution_count": null,
      "metadata": {
        "id": "9b0PwMpybqCZ"
      },
      "outputs": [],
      "source": [
        "#Load dataset\n",
        "df = pd.read_csv('/content/wiki_movie_plots_deduped.csv')\n",
        "\n",
        "#Convert Release Year to numeric\n",
        "df['Release Year'] = pd.to_numeric(df['Release Year'], errors='coerce')\n",
        "\n",
        "#Drop blank rows\n",
        "df = df.dropna(subset=['Release Year'])\n",
        "\n",
        "#Filter  movies from 1990 onwards\n",
        "df_filtered = df[(df['Origin/Ethnicity'] == 'Bollywood') & (df['Release Year'] >= 1990)].copy()\n",
        "\n",
        "#Reset index\n",
        "df_filtered.reset_index(drop=True, inplace=True)\n",
        "\n",
        "df_filtered[['Title', 'Release Year', 'Origin/Ethnicity', 'Plot']].head()"
      ]
    },
    {
      "cell_type": "markdown",
      "metadata": {
        "id": "4bYX_zjmbg2A"
      },
      "source": [
        "**Step 3: Generate Embeddings for Plots**"
      ]
    },
    {
      "cell_type": "markdown",
      "metadata": {
        "id": "5aiUHtKxcR8s"
      },
      "source": [
        "We use the SentenceTransformer model from Hugging Face to convert each movie plot into a numerical vector (called an embedding).\n",
        "\n",
        "Model used: all-MiniLM-L6-v2\n",
        "\n",
        "These embeddings help capture the meaning of the plot in numerical form for comparison.\n",
        "\n",
        "Why use embeddings? Text data like plots cannot be directly compared or clustered.\n",
        "\n",
        "Embeddings allow us to measure similarity between plots based on their meaning."
      ]
    },
    {
      "cell_type": "code",
      "execution_count": null,
      "metadata": {
        "id": "XwUrLSoDcWr9"
      },
      "outputs": [],
      "source": [
        "#Load sentence transformer model\n",
        "model = SentenceTransformer('all-MiniLM-L6-v2')\n",
        "\n",
        "\n",
        "#Generate plot embeddings\n",
        "tqdm.pandas()\n",
        "\n",
        "#Get plot texts\n",
        "plots = df_filtered['Plot'].fillna('').tolist()\n",
        "\n",
        "#Compute embedding vvalues\n",
        "embeddings = model.encode(plots, show_progress_bar=True)"
      ]
    },
    {
      "cell_type": "markdown",
      "metadata": {
        "id": "Lb3we0kZcmUL"
      },
      "source": [
        "**Step 4: Clustering the Movies**"
      ]
    },
    {
      "cell_type": "markdown",
      "metadata": {
        "id": "a-Cjd8mQcpNq"
      },
      "source": [
        "We use the KMeans algorithm to group similar movie plots into clusters.\n",
        "\n",
        "Number of clusters chosen: 5\n",
        "\n",
        "After clustering, each movie is assigned a cluster label.\n",
        "\n",
        "This allows us to categorize movies based on the type of story they contain."
      ]
    },
    {
      "cell_type": "code",
      "execution_count": null,
      "metadata": {
        "id": "vjTSx1urcue7"
      },
      "outputs": [],
      "source": [
        "from sklearn.cluster import KMeans\n",
        "\n",
        "\n",
        "num_clusters = 5   #Set number of clusters\n",
        "\n",
        "kmeans = KMeans(n_clusters=num_clusters, random_state=42)   #Apply KMeans Clustering\n",
        "df_filtered['cluster'] = kmeans.fit_predict(embeddings)\n",
        "\n",
        "df_filtered[['Title', 'Release Year', 'cluster']].head()"
      ]
    },
    {
      "cell_type": "markdown",
      "metadata": {
        "id": "jyLDoEShc3LQ"
      },
      "source": [
        "**Step 5: Recommend Similar Movies**"
      ]
    },
    {
      "cell_type": "markdown",
      "metadata": {
        "id": "wpT7mUcgc6NP"
      },
      "source": [
        "If a person likes the movie \"Lakshya (2004)\", we use cosine similarity to compare its plot with other movies.\n",
        "\n",
        "The top 3 most similar movie plots (excluding itself) are recommended.\n",
        "\n",
        "This method finds movies with semantically similar storylines."
      ]
    },
    {
      "cell_type": "code",
      "execution_count": null,
      "metadata": {
        "id": "M9UnGF5CdBlt"
      },
      "outputs": [],
      "source": [
        "#Find index of Lakshya (2004)\n",
        "lakshya_index = df_filtered[df_filtered['Title'].str.lower().str.contains('lakshya') & (df_filtered['Release Year'] == 2004)].index\n",
        "\n",
        "if len(lakshya_index) == 0:\n",
        "    print(\"Lakshya (2004) not found!\")\n",
        "else:\n",
        "    lakshya_vec = embeddings[lakshya_index[0]]\n",
        "\n",
        "    #Compute similarities\n",
        "    similarities = cosine_similarity([lakshya_vec], embeddings)[0]\n",
        "\n",
        "    #Get top 3 similar movie\n",
        "    top_indices = similarities.argsort()[::-1][1:4]\n",
        "    recommendations = df_filtered.iloc[top_indices][['Title', 'Release Year', 'Plot']]\n",
        "    print(\"Top 3 Recommendations if user liked 'Lakshya (2004)':\")\n",
        "    display(recommendations)"
      ]
    },
    {
      "cell_type": "markdown",
      "metadata": {
        "id": "dq1zfm9UdLEU"
      },
      "source": [
        "# **Summary**"
      ]
    },
    {
      "cell_type": "markdown",
      "metadata": {
        "id": "kyhYj8FbdN9j"
      },
      "source": [
        "This project demonstrates how to:\n",
        "\n",
        "1. Clean and filter text data\n",
        "Generate sentence embeddings using a pre-trained model\n",
        "\n",
        "2. Apply clustering to understand categories in unstructured text\n",
        "\n",
        "3. Build a basic content-based recommendation system using plot similarity"
      ]
    }
  ],
  "metadata": {
    "accelerator": "GPU",
    "colab": {
      "gpuType": "T4",
      "provenance": [],
      "include_colab_link": true
    },
    "kernelspec": {
      "display_name": "Python 3 (ipykernel)",
      "language": "python",
      "name": "python3"
    },
    "language_info": {
      "codemirror_mode": {
        "name": "ipython",
        "version": 3
      },
      "file_extension": ".py",
      "mimetype": "text/x-python",
      "name": "python",
      "nbconvert_exporter": "python",
      "pygments_lexer": "ipython3",
      "version": "3.10.18"
    }
  },
  "nbformat": 4,
  "nbformat_minor": 0
}