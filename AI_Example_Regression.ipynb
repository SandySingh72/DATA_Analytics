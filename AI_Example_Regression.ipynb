{
  "nbformat": 4,
  "nbformat_minor": 0,
  "metadata": {
    "colab": {
      "provenance": [],
      "authorship_tag": "ABX9TyO7vUJGsDX5EAY17MsiNStZ",
      "include_colab_link": true
    },
    "kernelspec": {
      "name": "python3",
      "display_name": "Python 3"
    },
    "language_info": {
      "name": "python"
    }
  },
  "cells": [
    {
      "cell_type": "markdown",
      "metadata": {
        "id": "view-in-github",
        "colab_type": "text"
      },
      "source": [
        "<a href=\"https://colab.research.google.com/github/SandySingh72/DATA_Analytics/blob/main/AI_Example_Regression.ipynb\" target=\"_parent\"><img src=\"https://colab.research.google.com/assets/colab-badge.svg\" alt=\"Open In Colab\"/></a>"
      ]
    },
    {
      "cell_type": "code",
      "source": [
        "import pandas as pd\n",
        "import numpy as np\n",
        "from sklearn.linear_model import LinearRegression\n",
        "from sklearn.tree import DecisionTreeRegressor\n",
        "from sklearn.ensemble import RandomForestRegressor, GradientBoostingRegressor\n",
        "from sklearn.model_selection import train_test_split\n",
        "from sklearn.metrics import mean_squared_error"
      ],
      "metadata": {
        "id": "li8sEG7BJiCz"
      },
      "execution_count": null,
      "outputs": []
    },
    {
      "cell_type": "code",
      "source": [
        "conc = pd.read_csv('Concrete_Data.csv')\n",
        "train, test = train_test_split(conc, test_size=0.3, random_state=25)"
      ],
      "metadata": {
        "id": "9Fi60bhlJmPM"
      },
      "execution_count": null,
      "outputs": []
    },
    {
      "cell_type": "code",
      "source": [
        "train.shape, test.shape"
      ],
      "metadata": {
        "colab": {
          "base_uri": "https://localhost:8080/"
        },
        "id": "AhihpXe6JxOi",
        "outputId": "d878dec3-5ef7-42f0-a8a7-699244f9aed9"
      },
      "execution_count": null,
      "outputs": [
        {
          "output_type": "execute_result",
          "data": {
            "text/plain": [
              "((721, 9), (309, 9))"
            ]
          },
          "metadata": {},
          "execution_count": 3
        }
      ]
    },
    {
      "cell_type": "code",
      "source": [
        "x_train = train.drop('Strength', axis=1)\n",
        "y_train = train['Strength']\n",
        "x_test = test.drop('Strength', axis=1)\n",
        "y_test = test['Strength']"
      ],
      "metadata": {
        "id": "nCheCjoWJ4uB"
      },
      "execution_count": null,
      "outputs": []
    },
    {
      "cell_type": "code",
      "source": [
        "x_train.shape, y_train.shape, x_test.shape, y_test.shape"
      ],
      "metadata": {
        "colab": {
          "base_uri": "https://localhost:8080/"
        },
        "id": "yqZf_IPCKi2l",
        "outputId": "ae37a7ca-dd80-4ca9-9f82-a76b76b99ff7"
      },
      "execution_count": null,
      "outputs": [
        {
          "output_type": "execute_result",
          "data": {
            "text/plain": [
              "((721, 8), (721,), (309, 8), (309,))"
            ]
          },
          "metadata": {},
          "execution_count": 6
        }
      ]
    },
    {
      "cell_type": "markdown",
      "source": [
        "# **Linear Regression**"
      ],
      "metadata": {
        "id": "W5aaKVppL87L"
      }
    },
    {
      "cell_type": "code",
      "source": [
        "lr = LinearRegression()\n",
        "lr.fit(x_train, y_train)\n",
        "y_pred = lr.predict(x_test)\n",
        "y_pred"
      ],
      "metadata": {
        "colab": {
          "base_uri": "https://localhost:8080/"
        },
        "id": "q0XP3h3_KpQs",
        "outputId": "9e6b6ff2-a764-4d5c-e46e-c718fc2d251f",
        "collapsed": true
      },
      "execution_count": null,
      "outputs": [
        {
          "output_type": "execute_result",
          "data": {
            "text/plain": [
              "array([24.63744908, 39.90407578, 70.01775407, 20.40523647, 32.59633754,\n",
              "       29.29390819, 44.96089815, 36.94349917, 59.56573569, 40.28756844,\n",
              "       28.7858216 , 25.8387483 , 24.62666675, 22.82237388, 26.34396966,\n",
              "       22.94394241, 47.87730111, 64.22769893, 35.15075036, 48.63092068,\n",
              "       22.54088407, 49.67979217, 56.01961194, 43.10580997, 27.15995207,\n",
              "       18.4706122 , 21.60258711, 26.09174258, 51.29184153, 27.51093117,\n",
              "       13.00769019, 22.64677381, 46.39998826, 10.76923133, 25.83391714,\n",
              "       38.19227805, 36.57670305, 19.57037283, 27.7534638 , 13.3512502 ,\n",
              "       33.45938173, 29.27657092, 16.91270404, 23.54596594, 55.58346892,\n",
              "       43.69280218, 22.48786911, 35.45353514, 22.39237411, 30.52314489,\n",
              "       25.55395984, 55.20785886, 49.88908525, 28.73733324, 55.15223318,\n",
              "       31.60392915, 32.24741192, 37.36413005, 23.78647336, 32.58828066,\n",
              "       25.85259258, 18.41438378, 19.10081516, 32.5501967 , 22.32961108,\n",
              "       43.87798892, 33.2838014 , 24.58206306, 42.47344244, 24.63794167,\n",
              "       51.13524788, 44.75584047, 39.7412641 , 42.89884634, 19.61498856,\n",
              "       14.97711973, 39.01009952, 58.38613784, 39.83919137, 26.9898413 ,\n",
              "       51.29184153, 32.92835849, 42.1247495 , 33.34630229, 45.36371761,\n",
              "       79.3697738 , 22.45688642, 38.56296161, 34.11797538, 27.46466235,\n",
              "       27.2116384 , 56.91128606, 13.11610349, 27.73224906, 36.20128389,\n",
              "       55.15644412, 40.27678506, 38.68074649, 50.82858258, 38.5029646 ,\n",
              "       39.0474766 , 35.74592501, 28.66518346, 23.81083835, 33.93778754,\n",
              "       60.72569068, 29.94973546, 31.89726729, 50.02445093, 33.24213025,\n",
              "       54.02117567, 26.38136359, 23.31465407, 22.93540986, 39.64374555,\n",
              "       11.96801743, 57.53989243, 17.3417511 , 19.39868442, 64.22769893,\n",
              "       20.46309685, 60.17545642, 28.54543672, 31.85954265, 26.77568332,\n",
              "       30.39289984, 11.49896933, 55.61676733, 17.01289167, 31.77032508,\n",
              "       24.27084475, 37.15001479, 31.91517035, 25.91541059, 32.1465158 ,\n",
              "       54.00794762, 53.0196718 , 69.08673765, 23.04665811, 34.63709425,\n",
              "       12.07378129, 34.91202368, 28.58177315, 36.59717071, 18.45902704,\n",
              "       17.72761789, 30.60548821, 28.7683692 , 14.98758313, 28.31166868,\n",
              "       38.71118258, 37.63110441, 51.92958489, 54.47248177, 31.05616476,\n",
              "       38.81539612, 34.06626565, 23.40871037, 54.07873388, 22.25177806,\n",
              "       22.50171931, 35.90731328, 30.42592224, 34.05804853, 47.56085523,\n",
              "       56.64228361, 60.79163148, 26.09281755, 14.62531018, 28.06504548,\n",
              "       32.80656916, 35.95662197, 33.52313682, 20.68260866, 32.2919056 ,\n",
              "       19.10927958, 33.44602711, 30.21124314, 44.55919064, 32.33400235,\n",
              "       26.07411293, 39.51470283, 48.26705605, 28.1322546 , 28.05074991,\n",
              "       27.30430424, 28.33983176, 17.70577572, 29.82186488, 24.21287877,\n",
              "       28.79200577, 22.05379285, 32.03669436, 38.40248942, 53.41751406,\n",
              "       46.55607857, 30.20764268, 41.66196978, 21.3632954 , 26.29852895,\n",
              "       54.47248177, 27.3843103 , 23.5859471 , 27.75564521, 33.31589597,\n",
              "       54.00794762, 37.14743631, 34.35859859, 34.19187655, 28.0906554 ,\n",
              "       49.86453444, 58.34589646, 30.32321184, 33.5951224 , 31.59362798,\n",
              "       19.78956196, 33.44093055, 42.59282132, 42.45221029, 55.85631835,\n",
              "       30.67447395, 28.56553454, 26.25020409, 38.56925739, 50.50593937,\n",
              "       25.56308873, 56.91128606, 52.19400677, 21.596579  , 41.43877108,\n",
              "       50.58450817, 53.40927781, 53.40396437, 29.12566507, 47.79841526,\n",
              "       20.37828407, 35.21496049, 39.93836456, 31.5841381 , 66.51273232,\n",
              "       29.23607382, 36.99221044, 50.96516008, 29.94355734, 60.55406462,\n",
              "       38.70527419, 55.45847609, 50.57037285, 56.66101687, 54.32146402,\n",
              "       52.30804508, 31.94756181, 14.52304898, 35.70593935, 26.89017351,\n",
              "       16.64980311, 29.43293108, 23.78490109, 25.29369767, 31.67448554,\n",
              "       53.91796335, 19.15960897, 38.03935599, 22.3273967 , 23.71066314,\n",
              "       30.31059456, 35.57325311, 64.36998174, 74.82200013, 48.36211925,\n",
              "       34.34834881, 22.10931829, 37.69479749, 35.0757915 , 33.58164292,\n",
              "       33.93720586, 35.67041932, 24.03921853, 17.70107003, 33.73917621,\n",
              "       33.39308894, 30.5713771 , 38.41528646, 18.06057948, 41.91343797,\n",
              "       13.95676776, 53.12070603, 48.8266534 , 35.44898569, 19.15045441,\n",
              "       46.86326488, 35.28880598, 25.36636227, 37.77175671, 34.71405066,\n",
              "       48.63628583, 30.29317808, 48.16638653, 24.11026198, 23.55553311,\n",
              "       47.46288905, 59.66897191, 34.2389053 , 23.08099632, 30.70365809,\n",
              "       27.17418319, 65.3719845 , 31.68885443, 38.77494086])"
            ]
          },
          "metadata": {},
          "execution_count": 7
        }
      ]
    },
    {
      "cell_type": "code",
      "source": [
        "lr = LinearRegression()\n",
        "lr.fit(x_train, y_train)\n",
        "y_pred = lr.predict(x_test)\n",
        "mse = mean_squared_error(y_test, y_pred)\n",
        "mse"
      ],
      "metadata": {
        "colab": {
          "base_uri": "https://localhost:8080/"
        },
        "id": "ZYmgzlMVMb5f",
        "outputId": "bff14d3f-c8c8-4705-cfd4-fa6f408ac868"
      },
      "execution_count": null,
      "outputs": [
        {
          "output_type": "execute_result",
          "data": {
            "text/plain": [
              "99.36941323003587"
            ]
          },
          "metadata": {},
          "execution_count": 8
        }
      ]
    },
    {
      "cell_type": "markdown",
      "source": [
        "# **Decision Tree Regression**"
      ],
      "metadata": {
        "id": "YzCDIlWJN25y"
      }
    },
    {
      "cell_type": "code",
      "source": [
        "dtr = DecisionTreeRegressor(random_state=25)\n",
        "dtr.fit(x_train, y_train)\n",
        "y_pred = dtr.predict(x_test)\n",
        "mse = mean_squared_error(y_test, y_pred)\n",
        "mse"
      ],
      "metadata": {
        "colab": {
          "base_uri": "https://localhost:8080/"
        },
        "id": "VhIJYwDEN-sn",
        "outputId": "7f52be6f-2dd0-48da-f556-0fa1e5f727fc"
      },
      "execution_count": null,
      "outputs": [
        {
          "output_type": "execute_result",
          "data": {
            "text/plain": [
              "50.996473139158574"
            ]
          },
          "metadata": {},
          "execution_count": 10
        }
      ]
    },
    {
      "cell_type": "markdown",
      "source": [
        "# **Random Forest Regressor**"
      ],
      "metadata": {
        "id": "pC0abnSqOSB_"
      }
    },
    {
      "cell_type": "code",
      "source": [
        "rf = RandomForestRegressor(random_state=25)\n",
        "rf.fit(x_train, y_train)\n",
        "y_pred = rf.predict(x_test)\n",
        "mse = mean_squared_error(y_test, y_pred)\n",
        "mse"
      ],
      "metadata": {
        "colab": {
          "base_uri": "https://localhost:8080/"
        },
        "id": "7Saz0GOGOYpy",
        "outputId": "c50c37a7-a98c-4a0a-af85-c6bb796627f8"
      },
      "execution_count": null,
      "outputs": [
        {
          "output_type": "execute_result",
          "data": {
            "text/plain": [
              "31.04131578144407"
            ]
          },
          "metadata": {},
          "execution_count": 11
        }
      ]
    },
    {
      "cell_type": "markdown",
      "source": [
        "# **Gradient Boosting Regressor**"
      ],
      "metadata": {
        "id": "4cN_SjAkPcVG"
      }
    },
    {
      "cell_type": "code",
      "source": [
        "gbm = GradientBoostingRegressor(random_state=25)\n",
        "gbm.fit(x_train, y_train)\n",
        "y_pred = gbm.predict(x_test)\n",
        "mse = mean_squared_error(y_test, y_pred)\n",
        "mse"
      ],
      "metadata": {
        "id": "2TRkfVVvPjVj",
        "outputId": "21ef9cff-64bd-4afb-a722-631937e1c8b6",
        "colab": {
          "base_uri": "https://localhost:8080/"
        }
      },
      "execution_count": null,
      "outputs": [
        {
          "output_type": "execute_result",
          "data": {
            "text/plain": [
              "30.302423463163525"
            ]
          },
          "metadata": {},
          "execution_count": 13
        }
      ]
    },
    {
      "cell_type": "markdown",
      "source": [
        "# **Hyper-Parameter Tuning**"
      ],
      "metadata": {
        "id": "-TeG3qWDR65g"
      }
    },
    {
      "cell_type": "code",
      "source": [
        "features = [2,3,4,5,6]\n",
        "for f in features:\n",
        "  rf = RandomForestRegressor(max_features=f, random_state=25)\n",
        "  rf.fit(x_train, y_train)\n",
        "  y_pred = rf.predict(x_test)\n",
        "  print (\"max_features =\",f,\"Error =\",mean_squared_error(y_test, y_pred))"
      ],
      "metadata": {
        "colab": {
          "base_uri": "https://localhost:8080/"
        },
        "id": "2tXpkwqQSEBf",
        "outputId": "4201e2b9-5954-4aa6-b885-13b216fffed2"
      },
      "execution_count": null,
      "outputs": [
        {
          "output_type": "stream",
          "name": "stdout",
          "text": [
            "max_features = 2 Error = 33.43890638973153\n",
            "max_features = 3 Error = 32.19815697438136\n",
            "max_features = 4 Error = 31.11775123798851\n",
            "max_features = 5 Error = 30.469584562007235\n",
            "max_features = 6 Error = 30.547323052994635\n"
          ]
        }
      ]
    },
    {
      "cell_type": "markdown",
      "source": [
        "An error corresponding to max_features = 5 is the least, max_feature = 5 is the best hyper-parameter value for random forest."
      ],
      "metadata": {
        "id": "u3aTjVuaTuhR"
      }
    },
    {
      "cell_type": "code",
      "source": [
        "rates = [0.1, 0.3, 0.5, 0.8]\n",
        "depth = [2, 3, 4, 5]\n",
        "scores = []\n",
        "for r in rates:\n",
        "  for d in depth:\n",
        "    gbm = GradientBoostingRegressor(random_state=25, learning_rate=r, max_depth=d)\n",
        "    gbm.fit(x_train, y_train)\n",
        "    y_pred = gbm.predict(x_test)\n",
        "    scores.append([r,d, mean_squared_error(y_test, y_pred)])"
      ],
      "metadata": {
        "collapsed": true,
        "id": "L-D8bitmUEhy"
      },
      "execution_count": null,
      "outputs": []
    },
    {
      "cell_type": "code",
      "source": [
        "df_scores = pd.DataFrame(scores, columns=['learning_rate', 'max_depth', 'mse'])\n",
        "df_scores.sort_values(by='mse', ascending=True)"
      ],
      "metadata": {
        "colab": {
          "base_uri": "https://localhost:8080/",
          "height": 551
        },
        "collapsed": true,
        "id": "27iqYU4NV9jK",
        "outputId": "e442f267-6535-4b5c-ef72-53056c8e55f0"
      },
      "execution_count": null,
      "outputs": [
        {
          "output_type": "execute_result",
          "data": {
            "text/plain": [
              "    learning_rate  max_depth        mse\n",
              "5             0.3          3  22.301056\n",
              "3             0.1          5  23.838663\n",
              "7             0.3          5  24.112086\n",
              "8             0.5          2  24.846230\n",
              "2             0.1          4  25.505446\n",
              "9             0.5          3  25.806327\n",
              "6             0.3          4  26.102322\n",
              "4             0.3          2  26.377228\n",
              "13            0.8          3  28.524357\n",
              "12            0.8          2  28.969493\n",
              "10            0.5          4  29.883402\n",
              "1             0.1          3  30.302423\n",
              "11            0.5          5  32.533059\n",
              "0             0.1          2  37.059123\n",
              "15            0.8          5  37.875919\n",
              "14            0.8          4  42.170581"
            ],
            "text/html": [
              "\n",
              "  <div id=\"df-184393c9-0879-486f-8065-0ba5e670ece9\" class=\"colab-df-container\">\n",
              "    <div>\n",
              "<style scoped>\n",
              "    .dataframe tbody tr th:only-of-type {\n",
              "        vertical-align: middle;\n",
              "    }\n",
              "\n",
              "    .dataframe tbody tr th {\n",
              "        vertical-align: top;\n",
              "    }\n",
              "\n",
              "    .dataframe thead th {\n",
              "        text-align: right;\n",
              "    }\n",
              "</style>\n",
              "<table border=\"1\" class=\"dataframe\">\n",
              "  <thead>\n",
              "    <tr style=\"text-align: right;\">\n",
              "      <th></th>\n",
              "      <th>learning_rate</th>\n",
              "      <th>max_depth</th>\n",
              "      <th>mse</th>\n",
              "    </tr>\n",
              "  </thead>\n",
              "  <tbody>\n",
              "    <tr>\n",
              "      <th>5</th>\n",
              "      <td>0.3</td>\n",
              "      <td>3</td>\n",
              "      <td>22.301056</td>\n",
              "    </tr>\n",
              "    <tr>\n",
              "      <th>3</th>\n",
              "      <td>0.1</td>\n",
              "      <td>5</td>\n",
              "      <td>23.838663</td>\n",
              "    </tr>\n",
              "    <tr>\n",
              "      <th>7</th>\n",
              "      <td>0.3</td>\n",
              "      <td>5</td>\n",
              "      <td>24.112086</td>\n",
              "    </tr>\n",
              "    <tr>\n",
              "      <th>8</th>\n",
              "      <td>0.5</td>\n",
              "      <td>2</td>\n",
              "      <td>24.846230</td>\n",
              "    </tr>\n",
              "    <tr>\n",
              "      <th>2</th>\n",
              "      <td>0.1</td>\n",
              "      <td>4</td>\n",
              "      <td>25.505446</td>\n",
              "    </tr>\n",
              "    <tr>\n",
              "      <th>9</th>\n",
              "      <td>0.5</td>\n",
              "      <td>3</td>\n",
              "      <td>25.806327</td>\n",
              "    </tr>\n",
              "    <tr>\n",
              "      <th>6</th>\n",
              "      <td>0.3</td>\n",
              "      <td>4</td>\n",
              "      <td>26.102322</td>\n",
              "    </tr>\n",
              "    <tr>\n",
              "      <th>4</th>\n",
              "      <td>0.3</td>\n",
              "      <td>2</td>\n",
              "      <td>26.377228</td>\n",
              "    </tr>\n",
              "    <tr>\n",
              "      <th>13</th>\n",
              "      <td>0.8</td>\n",
              "      <td>3</td>\n",
              "      <td>28.524357</td>\n",
              "    </tr>\n",
              "    <tr>\n",
              "      <th>12</th>\n",
              "      <td>0.8</td>\n",
              "      <td>2</td>\n",
              "      <td>28.969493</td>\n",
              "    </tr>\n",
              "    <tr>\n",
              "      <th>10</th>\n",
              "      <td>0.5</td>\n",
              "      <td>4</td>\n",
              "      <td>29.883402</td>\n",
              "    </tr>\n",
              "    <tr>\n",
              "      <th>1</th>\n",
              "      <td>0.1</td>\n",
              "      <td>3</td>\n",
              "      <td>30.302423</td>\n",
              "    </tr>\n",
              "    <tr>\n",
              "      <th>11</th>\n",
              "      <td>0.5</td>\n",
              "      <td>5</td>\n",
              "      <td>32.533059</td>\n",
              "    </tr>\n",
              "    <tr>\n",
              "      <th>0</th>\n",
              "      <td>0.1</td>\n",
              "      <td>2</td>\n",
              "      <td>37.059123</td>\n",
              "    </tr>\n",
              "    <tr>\n",
              "      <th>15</th>\n",
              "      <td>0.8</td>\n",
              "      <td>5</td>\n",
              "      <td>37.875919</td>\n",
              "    </tr>\n",
              "    <tr>\n",
              "      <th>14</th>\n",
              "      <td>0.8</td>\n",
              "      <td>4</td>\n",
              "      <td>42.170581</td>\n",
              "    </tr>\n",
              "  </tbody>\n",
              "</table>\n",
              "</div>\n",
              "    <div class=\"colab-df-buttons\">\n",
              "\n",
              "  <div class=\"colab-df-container\">\n",
              "    <button class=\"colab-df-convert\" onclick=\"convertToInteractive('df-184393c9-0879-486f-8065-0ba5e670ece9')\"\n",
              "            title=\"Convert this dataframe to an interactive table.\"\n",
              "            style=\"display:none;\">\n",
              "\n",
              "  <svg xmlns=\"http://www.w3.org/2000/svg\" height=\"24px\" viewBox=\"0 -960 960 960\">\n",
              "    <path d=\"M120-120v-720h720v720H120Zm60-500h600v-160H180v160Zm220 220h160v-160H400v160Zm0 220h160v-160H400v160ZM180-400h160v-160H180v160Zm440 0h160v-160H620v160ZM180-180h160v-160H180v160Zm440 0h160v-160H620v160Z\"/>\n",
              "  </svg>\n",
              "    </button>\n",
              "\n",
              "  <style>\n",
              "    .colab-df-container {\n",
              "      display:flex;\n",
              "      gap: 12px;\n",
              "    }\n",
              "\n",
              "    .colab-df-convert {\n",
              "      background-color: #E8F0FE;\n",
              "      border: none;\n",
              "      border-radius: 50%;\n",
              "      cursor: pointer;\n",
              "      display: none;\n",
              "      fill: #1967D2;\n",
              "      height: 32px;\n",
              "      padding: 0 0 0 0;\n",
              "      width: 32px;\n",
              "    }\n",
              "\n",
              "    .colab-df-convert:hover {\n",
              "      background-color: #E2EBFA;\n",
              "      box-shadow: 0px 1px 2px rgba(60, 64, 67, 0.3), 0px 1px 3px 1px rgba(60, 64, 67, 0.15);\n",
              "      fill: #174EA6;\n",
              "    }\n",
              "\n",
              "    .colab-df-buttons div {\n",
              "      margin-bottom: 4px;\n",
              "    }\n",
              "\n",
              "    [theme=dark] .colab-df-convert {\n",
              "      background-color: #3B4455;\n",
              "      fill: #D2E3FC;\n",
              "    }\n",
              "\n",
              "    [theme=dark] .colab-df-convert:hover {\n",
              "      background-color: #434B5C;\n",
              "      box-shadow: 0px 1px 3px 1px rgba(0, 0, 0, 0.15);\n",
              "      filter: drop-shadow(0px 1px 2px rgba(0, 0, 0, 0.3));\n",
              "      fill: #FFFFFF;\n",
              "    }\n",
              "  </style>\n",
              "\n",
              "    <script>\n",
              "      const buttonEl =\n",
              "        document.querySelector('#df-184393c9-0879-486f-8065-0ba5e670ece9 button.colab-df-convert');\n",
              "      buttonEl.style.display =\n",
              "        google.colab.kernel.accessAllowed ? 'block' : 'none';\n",
              "\n",
              "      async function convertToInteractive(key) {\n",
              "        const element = document.querySelector('#df-184393c9-0879-486f-8065-0ba5e670ece9');\n",
              "        const dataTable =\n",
              "          await google.colab.kernel.invokeFunction('convertToInteractive',\n",
              "                                                    [key], {});\n",
              "        if (!dataTable) return;\n",
              "\n",
              "        const docLinkHtml = 'Like what you see? Visit the ' +\n",
              "          '<a target=\"_blank\" href=https://colab.research.google.com/notebooks/data_table.ipynb>data table notebook</a>'\n",
              "          + ' to learn more about interactive tables.';\n",
              "        element.innerHTML = '';\n",
              "        dataTable['output_type'] = 'display_data';\n",
              "        await google.colab.output.renderOutput(dataTable, element);\n",
              "        const docLink = document.createElement('div');\n",
              "        docLink.innerHTML = docLinkHtml;\n",
              "        element.appendChild(docLink);\n",
              "      }\n",
              "    </script>\n",
              "  </div>\n",
              "\n",
              "\n",
              "    <div id=\"df-6ecf1dab-7448-4e32-ba66-93e863e298da\">\n",
              "      <button class=\"colab-df-quickchart\" onclick=\"quickchart('df-6ecf1dab-7448-4e32-ba66-93e863e298da')\"\n",
              "                title=\"Suggest charts\"\n",
              "                style=\"display:none;\">\n",
              "\n",
              "<svg xmlns=\"http://www.w3.org/2000/svg\" height=\"24px\"viewBox=\"0 0 24 24\"\n",
              "     width=\"24px\">\n",
              "    <g>\n",
              "        <path d=\"M19 3H5c-1.1 0-2 .9-2 2v14c0 1.1.9 2 2 2h14c1.1 0 2-.9 2-2V5c0-1.1-.9-2-2-2zM9 17H7v-7h2v7zm4 0h-2V7h2v10zm4 0h-2v-4h2v4z\"/>\n",
              "    </g>\n",
              "</svg>\n",
              "      </button>\n",
              "\n",
              "<style>\n",
              "  .colab-df-quickchart {\n",
              "      --bg-color: #E8F0FE;\n",
              "      --fill-color: #1967D2;\n",
              "      --hover-bg-color: #E2EBFA;\n",
              "      --hover-fill-color: #174EA6;\n",
              "      --disabled-fill-color: #AAA;\n",
              "      --disabled-bg-color: #DDD;\n",
              "  }\n",
              "\n",
              "  [theme=dark] .colab-df-quickchart {\n",
              "      --bg-color: #3B4455;\n",
              "      --fill-color: #D2E3FC;\n",
              "      --hover-bg-color: #434B5C;\n",
              "      --hover-fill-color: #FFFFFF;\n",
              "      --disabled-bg-color: #3B4455;\n",
              "      --disabled-fill-color: #666;\n",
              "  }\n",
              "\n",
              "  .colab-df-quickchart {\n",
              "    background-color: var(--bg-color);\n",
              "    border: none;\n",
              "    border-radius: 50%;\n",
              "    cursor: pointer;\n",
              "    display: none;\n",
              "    fill: var(--fill-color);\n",
              "    height: 32px;\n",
              "    padding: 0;\n",
              "    width: 32px;\n",
              "  }\n",
              "\n",
              "  .colab-df-quickchart:hover {\n",
              "    background-color: var(--hover-bg-color);\n",
              "    box-shadow: 0 1px 2px rgba(60, 64, 67, 0.3), 0 1px 3px 1px rgba(60, 64, 67, 0.15);\n",
              "    fill: var(--button-hover-fill-color);\n",
              "  }\n",
              "\n",
              "  .colab-df-quickchart-complete:disabled,\n",
              "  .colab-df-quickchart-complete:disabled:hover {\n",
              "    background-color: var(--disabled-bg-color);\n",
              "    fill: var(--disabled-fill-color);\n",
              "    box-shadow: none;\n",
              "  }\n",
              "\n",
              "  .colab-df-spinner {\n",
              "    border: 2px solid var(--fill-color);\n",
              "    border-color: transparent;\n",
              "    border-bottom-color: var(--fill-color);\n",
              "    animation:\n",
              "      spin 1s steps(1) infinite;\n",
              "  }\n",
              "\n",
              "  @keyframes spin {\n",
              "    0% {\n",
              "      border-color: transparent;\n",
              "      border-bottom-color: var(--fill-color);\n",
              "      border-left-color: var(--fill-color);\n",
              "    }\n",
              "    20% {\n",
              "      border-color: transparent;\n",
              "      border-left-color: var(--fill-color);\n",
              "      border-top-color: var(--fill-color);\n",
              "    }\n",
              "    30% {\n",
              "      border-color: transparent;\n",
              "      border-left-color: var(--fill-color);\n",
              "      border-top-color: var(--fill-color);\n",
              "      border-right-color: var(--fill-color);\n",
              "    }\n",
              "    40% {\n",
              "      border-color: transparent;\n",
              "      border-right-color: var(--fill-color);\n",
              "      border-top-color: var(--fill-color);\n",
              "    }\n",
              "    60% {\n",
              "      border-color: transparent;\n",
              "      border-right-color: var(--fill-color);\n",
              "    }\n",
              "    80% {\n",
              "      border-color: transparent;\n",
              "      border-right-color: var(--fill-color);\n",
              "      border-bottom-color: var(--fill-color);\n",
              "    }\n",
              "    90% {\n",
              "      border-color: transparent;\n",
              "      border-bottom-color: var(--fill-color);\n",
              "    }\n",
              "  }\n",
              "</style>\n",
              "\n",
              "      <script>\n",
              "        async function quickchart(key) {\n",
              "          const quickchartButtonEl =\n",
              "            document.querySelector('#' + key + ' button');\n",
              "          quickchartButtonEl.disabled = true;  // To prevent multiple clicks.\n",
              "          quickchartButtonEl.classList.add('colab-df-spinner');\n",
              "          try {\n",
              "            const charts = await google.colab.kernel.invokeFunction(\n",
              "                'suggestCharts', [key], {});\n",
              "          } catch (error) {\n",
              "            console.error('Error during call to suggestCharts:', error);\n",
              "          }\n",
              "          quickchartButtonEl.classList.remove('colab-df-spinner');\n",
              "          quickchartButtonEl.classList.add('colab-df-quickchart-complete');\n",
              "        }\n",
              "        (() => {\n",
              "          let quickchartButtonEl =\n",
              "            document.querySelector('#df-6ecf1dab-7448-4e32-ba66-93e863e298da button');\n",
              "          quickchartButtonEl.style.display =\n",
              "            google.colab.kernel.accessAllowed ? 'block' : 'none';\n",
              "        })();\n",
              "      </script>\n",
              "    </div>\n",
              "\n",
              "    </div>\n",
              "  </div>\n"
            ],
            "application/vnd.google.colaboratory.intrinsic+json": {
              "type": "dataframe",
              "summary": "{\n  \"name\": \"df_scores\",\n  \"rows\": 16,\n  \"fields\": [\n    {\n      \"column\": \"learning_rate\",\n      \"properties\": {\n        \"dtype\": \"number\",\n        \"std\": 0.2670830083201351,\n        \"min\": 0.1,\n        \"max\": 0.8,\n        \"num_unique_values\": 4,\n        \"samples\": [\n          0.1,\n          0.8,\n          0.3\n        ],\n        \"semantic_type\": \"\",\n        \"description\": \"\"\n      }\n    },\n    {\n      \"column\": \"max_depth\",\n      \"properties\": {\n        \"dtype\": \"number\",\n        \"std\": 1,\n        \"min\": 2,\n        \"max\": 5,\n        \"num_unique_values\": 4,\n        \"samples\": [\n          5,\n          4,\n          3\n        ],\n        \"semantic_type\": \"\",\n        \"description\": \"\"\n      }\n    },\n    {\n      \"column\": \"mse\",\n      \"properties\": {\n        \"dtype\": \"number\",\n        \"std\": 5.671126063099915,\n        \"min\": 22.301055909035057,\n        \"max\": 42.17058077969837,\n        \"num_unique_values\": 16,\n        \"samples\": [\n          22.301055909035057,\n          23.838662619419658,\n          25.80632666179726\n        ],\n        \"semantic_type\": \"\",\n        \"description\": \"\"\n      }\n    }\n  ]\n}"
            }
          },
          "metadata": {},
          "execution_count": 21
        }
      ]
    },
    {
      "cell_type": "markdown",
      "source": [
        "Inferencing steps:\n",
        "1."
      ],
      "metadata": {
        "id": "Xf5stD48ZxPJ"
      }
    },
    {
      "cell_type": "markdown",
      "source": [
        "# **Inferencing**"
      ],
      "metadata": {
        "id": "ZzExpZSVZ9Rf"
      }
    },
    {
      "cell_type": "code",
      "source": [
        "best_model = GradientBoostingRegressor(random_state=25, learning_rate=0.3, max_depth=3)\n",
        "best_model.fit(x_train, y_train)\n",
        "y_pred = best_model.predict(x_test)"
      ],
      "metadata": {
        "id": "4SWB7gq6aDKv"
      },
      "execution_count": null,
      "outputs": []
    }
  ]
}